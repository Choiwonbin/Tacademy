{
 "cells": [
  {
   "cell_type": "markdown",
   "metadata": {},
   "source": [
    "## 1. 자료형 및 연산자"
   ]
  },
  {
   "cell_type": "markdown",
   "metadata": {},
   "source": [
    "### 변수"
   ]
  },
  {
   "cell_type": "code",
   "execution_count": 1,
   "metadata": {},
   "outputs": [
    {
     "name": "stdout",
     "output_type": "stream",
     "text": [
      "friend: 10\n",
      "Friend: 1\n"
     ]
    }
   ],
   "source": [
    "# 대소문자 구분\n",
    "friend = 10\n",
    "Friend = 1\n",
    "print('friend:', friend)\n",
    "print('Friend:', Friend)"
   ]
  },
  {
   "cell_type": "markdown",
   "metadata": {},
   "source": [
    "### 수치"
   ]
  },
  {
   "cell_type": "code",
   "execution_count": 2,
   "metadata": {},
   "outputs": [
    {
     "name": "stdout",
     "output_type": "stream",
     "text": [
      "10 16 8 2\n"
     ]
    }
   ],
   "source": [
    "# int(x: 16진법, o: 8진법, b: 2진법)\n",
    "print(10, 0x10, 0o10, 0b10)"
   ]
  },
  {
   "cell_type": "code",
   "execution_count": 3,
   "metadata": {},
   "outputs": [
    {
     "name": "stdout",
     "output_type": "stream",
     "text": [
      "Type of 3.14: <class 'float'>\n",
      "Type of 314e-2: <class 'float'>\n"
     ]
    }
   ],
   "source": [
    "# float(실수)\n",
    "print('Type of 3.14:', type(3.14))\n",
    "print('Type of 314e-2:', type(314e-2))"
   ]
  },
  {
   "cell_type": "code",
   "execution_count": 4,
   "metadata": {},
   "outputs": [
    {
     "name": "stdout",
     "output_type": "stream",
     "text": [
      "Type of x: <class 'complex'>\n",
      "x.img: -4.0\n",
      "x.real: 3.0\n",
      "x.conjugate: (3+4j)\n"
     ]
    }
   ],
   "source": [
    "# complex(복소수)\n",
    "x = 3-4j\n",
    "print('Type of x:', type(x))\n",
    "\n",
    "# img: 허수 부분 출력\n",
    "print('x.img:', x.imag)\n",
    "\n",
    "# real: 실수 부분 출력\n",
    "print('x.real:', x.real)\n",
    "\n",
    "# conjugate: 켤레 복소수 출력\n",
    "print('x.conjugate:', x.conjugate())"
   ]
  },
  {
   "cell_type": "markdown",
   "metadata": {},
   "source": [
    "### 문자"
   ]
  },
  {
   "cell_type": "code",
   "execution_count": 5,
   "metadata": {},
   "outputs": [
    {
     "name": "stdout",
     "output_type": "stream",
     "text": [
      "python\n",
      "python\n",
      "pypypy\n"
     ]
    }
   ],
   "source": [
    "# + 연산자\n",
    "print('py' 'thon')\n",
    "print('py' + 'thon')\n",
    "\n",
    "# * 연산자\n",
    "print('py' * 3)"
   ]
  },
  {
   "cell_type": "code",
   "execution_count": 6,
   "metadata": {},
   "outputs": [
    {
     "name": "stdout",
     "output_type": "stream",
     "text": [
      "p\n",
      "n\n",
      "yth\n",
      "on\n"
     ]
    }
   ],
   "source": [
    "# 인덱싱\n",
    "print('python'[0])\n",
    "print('python'[5])\n",
    "\n",
    "# 슬라이싱\n",
    "print('python'[1:4])\n",
    "print('python'[-2:])"
   ]
  },
  {
   "cell_type": "markdown",
   "metadata": {},
   "source": [
    "### 유니코드"
   ]
  },
  {
   "cell_type": "code",
   "execution_count": 7,
   "metadata": {},
   "outputs": [
    {
     "name": "stdout",
     "output_type": "stream",
     "text": [
      "유니코드: <class 'str'>\n",
      "인코딩: <class 'bytes'>\n"
     ]
    }
   ],
   "source": [
    "# 유니코드\n",
    "print('유니코드:', type('가'))\n",
    "\n",
    "# 인코딩(not 유니코드)\n",
    "print('인코딩:', type('가'.encode('utf-8')))"
   ]
  },
  {
   "cell_type": "markdown",
   "metadata": {},
   "source": [
    "### 리스트"
   ]
  },
  {
   "cell_type": "code",
   "execution_count": 8,
   "metadata": {},
   "outputs": [
    {
     "data": {
      "text/plain": [
       "['red', 'green', 'gold']"
      ]
     },
     "execution_count": 8,
     "metadata": {},
     "output_type": "execute_result"
    }
   ],
   "source": [
    "# 리스트 생성\n",
    "colors = ['red', 'green', 'gold']\n",
    "colors"
   ]
  },
  {
   "cell_type": "code",
   "execution_count": 9,
   "metadata": {},
   "outputs": [
    {
     "data": {
      "text/plain": [
       "['red', 'green', 'gold', 'blue']"
      ]
     },
     "execution_count": 9,
     "metadata": {},
     "output_type": "execute_result"
    }
   ],
   "source": [
    "# append: 마지막에 원소 추가\n",
    "colors.append('blue')\n",
    "colors"
   ]
  },
  {
   "cell_type": "code",
   "execution_count": 10,
   "metadata": {},
   "outputs": [
    {
     "data": {
      "text/plain": [
       "['red', 'black', 'green', 'gold', 'blue']"
      ]
     },
     "execution_count": 10,
     "metadata": {},
     "output_type": "execute_result"
    }
   ],
   "source": [
    "# insert: 원하는 위치에 원소 추가\n",
    "colors.insert(1, 'black')\n",
    "colors"
   ]
  },
  {
   "cell_type": "code",
   "execution_count": 11,
   "metadata": {},
   "outputs": [
    {
     "data": {
      "text/plain": [
       "['red', 'black', 'green', 'gold', 'blue', 'white', 'gray', 'red']"
      ]
     },
     "execution_count": 11,
     "metadata": {},
     "output_type": "execute_result"
    }
   ],
   "source": [
    "# extend: 두 개 이상의 원소 추가\n",
    "colors.extend(['white', 'gray', 'red'])\n",
    "colors"
   ]
  },
  {
   "cell_type": "code",
   "execution_count": 12,
   "metadata": {},
   "outputs": [
    {
     "name": "stdout",
     "output_type": "stream",
     "text": [
      "Location of red: 0\n",
      "Location of red: 7\n"
     ]
    }
   ],
   "source": [
    "# index(원소, 시작지점, 종료지점): 원소 위치 확인\n",
    "print('Location of red:', colors.index('red'))\n",
    "print('Location of red:', colors.index('red', 1))\n",
    "# print('Location of red:', colors.index('red', 1, 5)) # error"
   ]
  },
  {
   "cell_type": "code",
   "execution_count": 13,
   "metadata": {},
   "outputs": [
    {
     "name": "stdout",
     "output_type": "stream",
     "text": [
      "Number of red: 2\n",
      "Last element: red\n"
     ]
    },
    {
     "data": {
      "text/plain": [
       "['red', 'black', 'green', 'gold', 'blue', 'white', 'gray']"
      ]
     },
     "execution_count": 13,
     "metadata": {},
     "output_type": "execute_result"
    }
   ],
   "source": [
    "# count: 원소 개수 확인\n",
    "print('Number of red:', colors.count('red'))\n",
    "\n",
    "# pop: 마지막 원소 뽑아내기\n",
    "print('Last element:', colors.pop())\n",
    "colors"
   ]
  },
  {
   "cell_type": "markdown",
   "metadata": {},
   "source": [
    "### 세트"
   ]
  },
  {
   "cell_type": "code",
   "execution_count": 14,
   "metadata": {},
   "outputs": [
    {
     "name": "stdout",
     "output_type": "stream",
     "text": [
      "Union set: {1, 2, 3, 4, 5}\n",
      "Intersection set: {3}\n"
     ]
    }
   ],
   "source": [
    "# 세트 생성\n",
    "a = {1, 2, 3}\n",
    "b = {3, 4, 5}\n",
    "\n",
    "# union: 합집합\n",
    "print('Union set:', a.union(b))\n",
    "\n",
    "# intersection: 교집합\n",
    "print('Intersection set:', a.intersection(b))"
   ]
  },
  {
   "cell_type": "markdown",
   "metadata": {},
   "source": [
    "### 튜플"
   ]
  },
  {
   "cell_type": "code",
   "execution_count": 15,
   "metadata": {},
   "outputs": [
    {
     "name": "stdout",
     "output_type": "stream",
     "text": [
      "1 2\n"
     ]
    }
   ],
   "source": [
    "# 튜플 생성(괄호 생략 가능)\n",
    "(a, b) = (1, 2)\n",
    "print(a, b)"
   ]
  },
  {
   "cell_type": "code",
   "execution_count": 16,
   "metadata": {},
   "outputs": [
    {
     "name": "stdout",
     "output_type": "stream",
     "text": [
      "2 1\n"
     ]
    }
   ],
   "source": [
    "# 튜플 치환(괄호 생략 가능)\n",
    "(a, b) = (b, a)\n",
    "print(a, b)"
   ]
  },
  {
   "cell_type": "markdown",
   "metadata": {},
   "source": [
    "### 딕셔너리"
   ]
  },
  {
   "cell_type": "code",
   "execution_count": 17,
   "metadata": {},
   "outputs": [
    {
     "data": {
      "text/plain": [
       "{'a': 1, 'b': 3, 'c': 5}"
      ]
     },
     "execution_count": 17,
     "metadata": {},
     "output_type": "execute_result"
    }
   ],
   "source": [
    "# 딕셔너리 생성\n",
    "d = dict(a = 1, b = 3, c = 5)\n",
    "d"
   ]
  },
  {
   "cell_type": "code",
   "execution_count": 18,
   "metadata": {},
   "outputs": [
    {
     "data": {
      "text/plain": [
       "{'a': 1, 'b': 3, 'c': 5, 'd': 7}"
      ]
     },
     "execution_count": 18,
     "metadata": {},
     "output_type": "execute_result"
    }
   ],
   "source": [
    "# item 추가\n",
    "d['d'] = 7\n",
    "d"
   ]
  },
  {
   "cell_type": "code",
   "execution_count": 19,
   "metadata": {},
   "outputs": [
    {
     "data": {
      "text/plain": [
       "{'a': 2, 'b': 3, 'c': 5, 'd': 7}"
      ]
     },
     "execution_count": 19,
     "metadata": {},
     "output_type": "execute_result"
    }
   ],
   "source": [
    "# value 변경\n",
    "d['a'] = 2\n",
    "d"
   ]
  },
  {
   "cell_type": "code",
   "execution_count": 20,
   "metadata": {},
   "outputs": [
    {
     "name": "stdout",
     "output_type": "stream",
     "text": [
      "Items: dict_items([('a', 2), ('b', 3), ('c', 5), ('d', 7)])\n",
      "Keys: dict_keys(['a', 'b', 'c', 'd'])\n",
      "Values: dict_values([2, 3, 5, 7])\n"
     ]
    }
   ],
   "source": [
    "# items: 딕셔너리의 모든 item을 튜플 형태로 확인\n",
    "print('Items:', d.items())\n",
    "\n",
    "# keys: 딕셔너리의 모든 key 확인\n",
    "print('Keys:', d.keys())\n",
    "\n",
    "# values: 딕셔너리의 모든 value 확인\n",
    "print('Values:', d.values())"
   ]
  },
  {
   "cell_type": "code",
   "execution_count": 21,
   "metadata": {},
   "outputs": [
    {
     "data": {
      "text/plain": [
       "{'b': 3, 'c': 5, 'd': 7}"
      ]
     },
     "execution_count": 21,
     "metadata": {},
     "output_type": "execute_result"
    }
   ],
   "source": [
    "# del: item 삭제\n",
    "del d['a']\n",
    "d"
   ]
  },
  {
   "cell_type": "code",
   "execution_count": 22,
   "metadata": {},
   "outputs": [
    {
     "data": {
      "text/plain": [
       "{}"
      ]
     },
     "execution_count": 22,
     "metadata": {},
     "output_type": "execute_result"
    }
   ],
   "source": [
    "# clear: 모든 item 삭제\n",
    "d.clear()\n",
    "d"
   ]
  },
  {
   "cell_type": "markdown",
   "metadata": {},
   "source": [
    "### 얕은 복사 vs 깊은 복사"
   ]
  },
  {
   "cell_type": "code",
   "execution_count": 23,
   "metadata": {},
   "outputs": [
    {
     "name": "stdout",
     "output_type": "stream",
     "text": [
      "a: [38, 2, 3]\n",
      "b: [38, 2, 3]\n",
      "id(a): 2484990292104\n",
      "id(b): 2484990292104\n"
     ]
    }
   ],
   "source": [
    "# 얕은 복사: 주소가 복사되어 객체 공유\n",
    "a = [1, 2, 3]\n",
    "b = a\n",
    "\n",
    "# a의 첫번째 원소 변경\n",
    "a[0] = 38\n",
    "\n",
    "# a, b 확인\n",
    "print('a:', a)\n",
    "print('b:', b)\n",
    "\n",
    "# a, b의 id 확인\n",
    "print('id(a):', id(a))\n",
    "print('id(b):', id(b))"
   ]
  },
  {
   "cell_type": "code",
   "execution_count": 24,
   "metadata": {},
   "outputs": [
    {
     "name": "stdout",
     "output_type": "stream",
     "text": [
      "c: [38, 2, 3]\n",
      "d: [1, 2, 3]\n",
      "id(c): 2484990293704\n",
      "id(d): 2484989303944\n"
     ]
    }
   ],
   "source": [
    "# 깊은 복사: 객체 공유 X\n",
    "c = [1, 2, 3]\n",
    "d = c[:]\n",
    "\n",
    "# c의 첫번째 원소 변경\n",
    "c[0] = 38\n",
    "\n",
    "# c, d 확인\n",
    "print('c:', c)\n",
    "print('d:', d)\n",
    "\n",
    "# c, d의 id 확인\n",
    "print('id(c):', id(c))\n",
    "print('id(d):', id(d))"
   ]
  }
 ],
 "metadata": {
  "kernelspec": {
   "display_name": "Python 3",
   "language": "python",
   "name": "python3"
  },
  "language_info": {
   "codemirror_mode": {
    "name": "ipython",
    "version": 3
   },
   "file_extension": ".py",
   "mimetype": "text/x-python",
   "name": "python",
   "nbconvert_exporter": "python",
   "pygments_lexer": "ipython3",
   "version": "3.6.7"
  }
 },
 "nbformat": 4,
 "nbformat_minor": 2
}
