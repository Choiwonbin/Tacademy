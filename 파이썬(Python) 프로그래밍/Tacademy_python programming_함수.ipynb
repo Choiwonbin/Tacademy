{
 "cells": [
  {
   "cell_type": "markdown",
   "metadata": {},
   "source": [
    "## 2. 함수"
   ]
  },
  {
   "cell_type": "markdown",
   "metadata": {},
   "source": [
    "### 함수 선언(def)"
   ]
  },
  {
   "cell_type": "code",
   "execution_count": 1,
   "metadata": {},
   "outputs": [
    {
     "data": {
      "text/plain": [
       "100"
      ]
     },
     "execution_count": 1,
     "metadata": {},
     "output_type": "execute_result"
    }
   ],
   "source": [
    "# 입력 받은 2개의 인수를 곱하는 함수 선언\n",
    "def Times(a, b):\n",
    "    return a*b\n",
    "\n",
    "# Times 함수에 (10, 10) 입력\n",
    "Times(10, 10)"
   ]
  },
  {
   "cell_type": "code",
   "execution_count": 2,
   "metadata": {},
   "outputs": [
    {
     "data": {
      "text/plain": [
       "100"
      ]
     },
     "execution_count": 2,
     "metadata": {},
     "output_type": "execute_result"
    }
   ],
   "source": [
    "# 함수를 변수에 할당\n",
    "myTimes = Times\n",
    "\n",
    "# 할당한 변수에 (10, 10 입력\n",
    "r = myTimes(10, 10)\n",
    "r"
   ]
  },
  {
   "cell_type": "markdown",
   "metadata": {},
   "source": [
    "### 함수 반환(return)"
   ]
  },
  {
   "cell_type": "code",
   "execution_count": 3,
   "metadata": {},
   "outputs": [
    {
     "data": {
      "text/plain": [
       "(2, 1)"
      ]
     },
     "execution_count": 3,
     "metadata": {},
     "output_type": "execute_result"
    }
   ],
   "source": [
    "# (x, y)를 입력하면 (y, x)를 반환하는 함수 선언\n",
    "def swap(x, y):\n",
    "    return y, x\n",
    "\n",
    "# swap 함수에 (1, 2) 입력\n",
    "swap(1, 2)"
   ]
  },
  {
   "cell_type": "code",
   "execution_count": 4,
   "metadata": {},
   "outputs": [
    {
     "name": "stdout",
     "output_type": "stream",
     "text": [
      "None\n"
     ]
    }
   ],
   "source": [
    "# return을 사용하지 않은 경우: None 반환\n",
    "def setValue(newValue):\n",
    "    x = newValue\n",
    "    \n",
    "print(setValue(10))"
   ]
  },
  {
   "cell_type": "markdown",
   "metadata": {},
   "source": [
    "### 인수 전달"
   ]
  },
  {
   "cell_type": "code",
   "execution_count": 5,
   "metadata": {},
   "outputs": [
    {
     "data": {
      "text/plain": [
       "False"
      ]
     },
     "execution_count": 5,
     "metadata": {},
     "output_type": "execute_result"
    }
   ],
   "source": [
    "# 인수가 0인지 확인하는 함수 선언\n",
    "def isZero(arg1):\n",
    "    return arg1 == 0\n",
    "\n",
    "# a가 0인지 확인\n",
    "a = 10\n",
    "isZero(a)"
   ]
  },
  {
   "cell_type": "code",
   "execution_count": 6,
   "metadata": {},
   "outputs": [
    {
     "name": "stdout",
     "output_type": "stream",
     "text": [
      "Sum of a, b:  30\n",
      "Sum of x, b:  21\n"
     ]
    }
   ],
   "source": [
    "# 변경 불가능 변수\n",
    "a = 10\n",
    "b = 20\n",
    "x = 10\n",
    "\n",
    "# 입력한 두 인수의 합을 반환하는 함수 선언\n",
    "def sum1(x, y):\n",
    "    return x + y\n",
    "\n",
    "def sum2(x, y):\n",
    "    x = 1\n",
    "    return x + y\n",
    "\n",
    "# a, b의 합 반환\n",
    "print('Sum of a, b: ', sum1(a, b))\n",
    "print('Sum of x, b: ', sum2(x, b))"
   ]
  },
  {
   "cell_type": "code",
   "execution_count": 7,
   "metadata": {},
   "outputs": [
    {
     "name": "stdout",
     "output_type": "stream",
     "text": [
      "['H', 'A', 'M'] ['J', 'A', 'M']\n"
     ]
    }
   ],
   "source": [
    "# 변경 가능 변수\n",
    "wordlist1 = ['J', 'A', 'M']\n",
    "wordlist2 = ['J', 'A', 'M']\n",
    "\n",
    "# 첫번째 값을 H로 바꾸는 함수 선언\n",
    "def change1(x):\n",
    "    x[0] = 'H'\n",
    "    \n",
    "def change2(x):\n",
    "    x = x[:] # 깊은 복사\n",
    "    x[0] = 'H'\n",
    "    return None\n",
    "    \n",
    "# wordlist의 첫번째 값 변경\n",
    "change1(wordlist1)\n",
    "change2(wordlist2)\n",
    "print(wordlist1, wordlist2)"
   ]
  },
  {
   "cell_type": "code",
   "execution_count": 8,
   "metadata": {},
   "outputs": [
    {
     "name": "stdout",
     "output_type": "stream",
     "text": [
      "2 3\n"
     ]
    }
   ],
   "source": [
    "# 스코핑 룰(Scoping rule): LGB 규칙(Local -> Global -> Built-in)\n",
    "x = 1\n",
    "\n",
    "# a와 x의 합을 반환하는 함수 선언\n",
    "def func1(a):\n",
    "    return a + x\n",
    "\n",
    "def func2(a):\n",
    "    x = 2\n",
    "    return a + x\n",
    "\n",
    "# 1과 x의 합 반환\n",
    "print(func1(1), func2(1))"
   ]
  },
  {
   "cell_type": "markdown",
   "metadata": {},
   "source": [
    "### 인수"
   ]
  },
  {
   "cell_type": "code",
   "execution_count": 9,
   "metadata": {},
   "outputs": [
    {
     "name": "stdout",
     "output_type": "stream",
     "text": [
      "200 100 10\n"
     ]
    }
   ],
   "source": [
    "# 기본 인수 값: 인수를 지정하지 않아도 기본값이 할당되도록 하는 방법\n",
    "def Times(a = 10, b = 20):\n",
    "    return a * b\n",
    "\n",
    "print(Times(), Times(5), Times(5, 2))"
   ]
  },
  {
   "cell_type": "code",
   "execution_count": 10,
   "metadata": {},
   "outputs": [
    {
     "name": "stdout",
     "output_type": "stream",
     "text": [
      "http://test.com:8080\n",
      "http://test.com:8080\n"
     ]
    }
   ],
   "source": [
    "# 키워드 인수: 인수 이름으로 값을 전달하는 방법\n",
    "def connectURI(server, port):\n",
    "    str = 'http://' + server + ':' + port\n",
    "    return str\n",
    "\n",
    "print(connectURI('test.com', '8080'))\n",
    "print(connectURI(port = '8080', server = 'test.com'))"
   ]
  },
  {
   "cell_type": "code",
   "execution_count": 11,
   "metadata": {},
   "outputs": [
    {
     "data": {
      "text/plain": [
       "['H', 'A', 'M', 'E', 'G', 'S', 'P']"
      ]
     },
     "execution_count": 11,
     "metadata": {},
     "output_type": "execute_result"
    }
   ],
   "source": [
    "# 가변인수 리스트: 인수의 개수가 정해지지 않은 가변 인수를 전달하는 방법(* 사용)\n",
    "def union2(*ar):\n",
    "    res = []\n",
    "    for item in ar:\n",
    "        for x in item:\n",
    "            if not x in res:\n",
    "                res.append(x)\n",
    "    return res\n",
    "\n",
    "union2('HAM', 'EGG', 'SPAM')"
   ]
  },
  {
   "cell_type": "code",
   "execution_count": 12,
   "metadata": {},
   "outputs": [
    {
     "name": "stdout",
     "output_type": "stream",
     "text": [
      "http://test.com:8080/?id=userid&passwd=1234&\n",
      "http://test.com:8080/?id=userid&passwd=1234&name=mike&age=20&\n"
     ]
    }
   ],
   "source": [
    "# 정의되지 않은 인수 처리: ** 사용\n",
    "def userURIBuilder(server, port, **user):\n",
    "    str = 'http://' + server + ':' + port + '/?'\n",
    "    for key in user.keys():\n",
    "        str += key + '=' + user[key] + '&'\n",
    "    return str\n",
    "\n",
    "print(userURIBuilder('test.com', '8080', id = 'userid', passwd = '1234'))\n",
    "print(userURIBuilder('test.com', '8080', id = 'userid', passwd = '1234', name = 'mike', age = '20'))"
   ]
  },
  {
   "cell_type": "markdown",
   "metadata": {},
   "source": [
    "### 람다(lambda) 함수\n",
    ": 이름이 없는 1줄짜리 함수"
   ]
  },
  {
   "cell_type": "code",
   "execution_count": 13,
   "metadata": {},
   "outputs": [
    {
     "data": {
      "text/plain": [
       "6"
      ]
     },
     "execution_count": 13,
     "metadata": {},
     "output_type": "execute_result"
    }
   ],
   "source": [
    "# x, y를 곱하는 lambda 함수\n",
    "g = lambda x, y : x * y\n",
    "g(2, 3)"
   ]
  },
  {
   "cell_type": "code",
   "execution_count": 14,
   "metadata": {},
   "outputs": [
    {
     "data": {
      "text/plain": [
       "9"
      ]
     },
     "execution_count": 14,
     "metadata": {},
     "output_type": "execute_result"
    }
   ],
   "source": [
    "# 제곱하는 lambda 함수\n",
    "(lambda x: x * x)(3)"
   ]
  },
  {
   "cell_type": "markdown",
   "metadata": {},
   "source": [
    "### 재귀적(recursive) 함수 호출\n",
    ": 함수 내부에서 자기 자신을 계속 호출하는 방법"
   ]
  },
  {
   "cell_type": "code",
   "execution_count": 15,
   "metadata": {},
   "outputs": [
    {
     "data": {
      "text/plain": [
       "3628800"
      ]
     },
     "execution_count": 15,
     "metadata": {},
     "output_type": "execute_result"
    }
   ],
   "source": [
    "# factorial 함수 선언\n",
    "def factorial(x):\n",
    "    if x == 1:\n",
    "        return 1\n",
    "    return x * factorial(x-1)\n",
    "\n",
    "# 10의 factorial\n",
    "factorial(10)"
   ]
  },
  {
   "cell_type": "markdown",
   "metadata": {},
   "source": [
    "### pass 구문(statement)\n",
    ": 아무 것도 하지 않음"
   ]
  },
  {
   "cell_type": "code",
   "execution_count": 16,
   "metadata": {},
   "outputs": [],
   "source": [
    "# 아무 것도 하지 않는 함수 선언\n",
    "def sample():\n",
    "    pass\n",
    "\n",
    "sample()"
   ]
  },
  {
   "cell_type": "markdown",
   "metadata": {},
   "source": [
    "### __doc__ 속성과 help 함수"
   ]
  },
  {
   "cell_type": "code",
   "execution_count": 17,
   "metadata": {},
   "outputs": [
    {
     "name": "stdout",
     "output_type": "stream",
     "text": [
      "Help on built-in function print in module builtins:\n",
      "\n",
      "print(...)\n",
      "    print(value, ..., sep=' ', end='\\n', file=sys.stdout, flush=False)\n",
      "    \n",
      "    Prints the values to a stream, or to sys.stdout by default.\n",
      "    Optional keyword arguments:\n",
      "    file:  a file-like object (stream); defaults to the current sys.stdout.\n",
      "    sep:   string inserted between values, default a space.\n",
      "    end:   string appended after the last value, default a newline.\n",
      "    flush: whether to forcibly flush the stream.\n",
      "\n"
     ]
    }
   ],
   "source": [
    "# help 함수: 함수에 대한 설명 확인\n",
    "help(print)"
   ]
  },
  {
   "cell_type": "code",
   "execution_count": 18,
   "metadata": {},
   "outputs": [
    {
     "name": "stdout",
     "output_type": "stream",
     "text": [
      "Help on function plus in module __main__:\n",
      "\n",
      "plus(a, b)\n",
      "    # 직접 만든 함수의 설명 확인\n",
      "\n"
     ]
    }
   ],
   "source": [
    "# 직접 만든 함수의 설명 확인\n",
    "def plus(a, b):\n",
    "    return a + b\n",
    "\n",
    "help(plus)"
   ]
  },
  {
   "cell_type": "code",
   "execution_count": 19,
   "metadata": {},
   "outputs": [
    {
     "name": "stdout",
     "output_type": "stream",
     "text": [
      "Help on function plus in module __main__:\n",
      "\n",
      "plus(a, b)\n",
      "    return the sum of parameter a, b\n",
      "\n"
     ]
    }
   ],
   "source": [
    "# __doc__ 속성: 설명 추가\n",
    "plus.__doc__ = 'return the sum of parameter a, b'  \n",
    "\n",
    "help(plus)"
   ]
  },
  {
   "cell_type": "markdown",
   "metadata": {},
   "source": [
    "### 이터레이터(Iterater)\n",
    ": 순회 가능한 객체의 요소를 순서대로 접근할 수 있는 객체"
   ]
  },
  {
   "cell_type": "code",
   "execution_count": 20,
   "metadata": {},
   "outputs": [
    {
     "data": {
      "text/plain": [
       "<str_iterator at 0x2353096b5f8>"
      ]
     },
     "execution_count": 20,
     "metadata": {},
     "output_type": "execute_result"
    }
   ],
   "source": [
    "# iterater 설정\n",
    "s = 'abc'\n",
    "it = iter(s)\n",
    "it"
   ]
  },
  {
   "cell_type": "code",
   "execution_count": 21,
   "metadata": {},
   "outputs": [
    {
     "data": {
      "text/plain": [
       "'a'"
      ]
     },
     "execution_count": 21,
     "metadata": {},
     "output_type": "execute_result"
    }
   ],
   "source": [
    "next(it)"
   ]
  },
  {
   "cell_type": "code",
   "execution_count": 22,
   "metadata": {},
   "outputs": [
    {
     "data": {
      "text/plain": [
       "'b'"
      ]
     },
     "execution_count": 22,
     "metadata": {},
     "output_type": "execute_result"
    }
   ],
   "source": [
    "next(it)"
   ]
  },
  {
   "cell_type": "code",
   "execution_count": 23,
   "metadata": {},
   "outputs": [
    {
     "data": {
      "text/plain": [
       "'c'"
      ]
     },
     "execution_count": 23,
     "metadata": {},
     "output_type": "execute_result"
    }
   ],
   "source": [
    "it.__next__()"
   ]
  },
  {
   "cell_type": "code",
   "execution_count": 24,
   "metadata": {},
   "outputs": [
    {
     "ename": "StopIteration",
     "evalue": "",
     "output_type": "error",
     "traceback": [
      "\u001b[1;31m---------------------------------------------------------------------------\u001b[0m",
      "\u001b[1;31mStopIteration\u001b[0m                             Traceback (most recent call last)",
      "\u001b[1;32m<ipython-input-24-bc1ab118995a>\u001b[0m in \u001b[0;36m<module>\u001b[1;34m\u001b[0m\n\u001b[1;32m----> 1\u001b[1;33m \u001b[0mnext\u001b[0m\u001b[1;33m(\u001b[0m\u001b[0mit\u001b[0m\u001b[1;33m)\u001b[0m\u001b[1;33m\u001b[0m\u001b[1;33m\u001b[0m\u001b[0m\n\u001b[0m",
      "\u001b[1;31mStopIteration\u001b[0m: "
     ]
    }
   ],
   "source": [
    "next(it)"
   ]
  },
  {
   "cell_type": "markdown",
   "metadata": {},
   "source": [
    "### 제네레이터(Generator)\n",
    ": return 대신 yield를 이용해 함수 객체를 유지하면서 값을 호출자에 넘겨줌"
   ]
  },
  {
   "cell_type": "code",
   "execution_count": 25,
   "metadata": {},
   "outputs": [
    {
     "name": "stdout",
     "output_type": "stream",
     "text": [
      "f\n",
      "l\n",
      "o\n",
      "g\n"
     ]
    }
   ],
   "source": [
    "# 거꾸로 하나씩 반환하는 함수 선언\n",
    "def reverse(data):\n",
    "    for index in range(len(data) -1, -1, -1):\n",
    "        yield data[index]\n",
    "        \n",
    "# golf를 거꾸로 하나씩 반환\n",
    "for char in reverse('golf'):\n",
    "    print(char)"
   ]
  },
  {
   "cell_type": "code",
   "execution_count": 26,
   "metadata": {},
   "outputs": [],
   "source": [
    "# a, b, c를 하나씩 반환하는 함수 선언\n",
    "def abc():\n",
    "    data = 'abc'\n",
    "    for char in data:\n",
    "        yield char"
   ]
  },
  {
   "cell_type": "code",
   "execution_count": 27,
   "metadata": {},
   "outputs": [
    {
     "data": {
      "text/plain": [
       "<function __main__.abc()>"
      ]
     },
     "execution_count": 27,
     "metadata": {},
     "output_type": "execute_result"
    }
   ],
   "source": [
    "abc"
   ]
  },
  {
   "cell_type": "code",
   "execution_count": 28,
   "metadata": {},
   "outputs": [
    {
     "data": {
      "text/plain": [
       "<generator object abc at 0x00000235309EB200>"
      ]
     },
     "execution_count": 28,
     "metadata": {},
     "output_type": "execute_result"
    }
   ],
   "source": [
    "abc()"
   ]
  },
  {
   "cell_type": "code",
   "execution_count": 29,
   "metadata": {},
   "outputs": [],
   "source": [
    "# iterator 설정\n",
    "it = iter(abc())"
   ]
  },
  {
   "cell_type": "code",
   "execution_count": 30,
   "metadata": {},
   "outputs": [
    {
     "data": {
      "text/plain": [
       "'a'"
      ]
     },
     "execution_count": 30,
     "metadata": {},
     "output_type": "execute_result"
    }
   ],
   "source": [
    "next(it)"
   ]
  },
  {
   "cell_type": "code",
   "execution_count": 31,
   "metadata": {},
   "outputs": [
    {
     "data": {
      "text/plain": [
       "'b'"
      ]
     },
     "execution_count": 31,
     "metadata": {},
     "output_type": "execute_result"
    }
   ],
   "source": [
    "next(it)"
   ]
  },
  {
   "cell_type": "code",
   "execution_count": 32,
   "metadata": {},
   "outputs": [
    {
     "data": {
      "text/plain": [
       "'c'"
      ]
     },
     "execution_count": 32,
     "metadata": {},
     "output_type": "execute_result"
    }
   ],
   "source": [
    "next(it)"
   ]
  }
 ],
 "metadata": {
  "kernelspec": {
   "display_name": "Python 3",
   "language": "python",
   "name": "python3"
  },
  "language_info": {
   "codemirror_mode": {
    "name": "ipython",
    "version": 3
   },
   "file_extension": ".py",
   "mimetype": "text/x-python",
   "name": "python",
   "nbconvert_exporter": "python",
   "pygments_lexer": "ipython3",
   "version": "3.6.7"
  }
 },
 "nbformat": 4,
 "nbformat_minor": 2
}
