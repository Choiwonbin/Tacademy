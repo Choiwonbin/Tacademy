{
 "cells": [
  {
   "cell_type": "markdown",
   "metadata": {},
   "source": [
    "## 4. 클래스"
   ]
  },
  {
   "cell_type": "markdown",
   "metadata": {},
   "source": [
    "### 클래스와 인스턴스"
   ]
  },
  {
   "cell_type": "code",
   "execution_count": 1,
   "metadata": {},
   "outputs": [
    {
     "name": "stdout",
     "output_type": "stream",
     "text": [
      "My Name is Default Name\n"
     ]
    }
   ],
   "source": [
    "# 클래스와 인스턴스\n",
    "class Pearson: # 클래스 정의\n",
    "    Name = 'Default Name' # 멤버 변수\n",
    "    \n",
    "    def Print(self): # 멤버 메소드\n",
    "        print('My Name is {0}'.format(self.Name))\n",
    "        \n",
    "p1 = Pearson() # 인스턴스 객체 생성\n",
    "p1.Print() # 멤버 변수값 출력"
   ]
  },
  {
   "cell_type": "code",
   "execution_count": 2,
   "metadata": {},
   "outputs": [
    {
     "name": "stdout",
     "output_type": "stream",
     "text": [
      "p1's name:  Default Name\n",
      "p2's name:  Default Name\n",
      "p1's name:  김연아\n",
      "p2's name:  Default Name\n"
     ]
    }
   ],
   "source": [
    "# 검색순서: 인스턴스 -> 클래스 -> 전역\n",
    "class Person: # 클래스 정의\n",
    "    name = 'Default Name'\n",
    "\n",
    "# 인스턴스 객체 생성\n",
    "p1 = Person() \n",
    "p2 = Person()\n",
    "\n",
    "# 각 개체의 name 속성 출력\n",
    "print(\"p1's name: \", p1.name)\n",
    "print(\"p2's name: \", p2.name)\n",
    "\n",
    "# p1 인스턴스의 name 속성 변경\n",
    "p1.name = '김연아'\n",
    "\n",
    "# 각 개체의 name 속성 출력\n",
    "print(\"p1's name: \", p1.name)\n",
    "print(\"p2's name: \", p2.name)"
   ]
  },
  {
   "cell_type": "code",
   "execution_count": 3,
   "metadata": {},
   "outputs": [
    {
     "name": "stdout",
     "output_type": "stream",
     "text": [
      "p1's name: 김연아, title: New title, age: 20\n"
     ]
    },
    {
     "ename": "AttributeError",
     "evalue": "'Person' object has no attribute 'age'",
     "output_type": "error",
     "traceback": [
      "\u001b[1;31m---------------------------------------------------------------------------\u001b[0m",
      "\u001b[1;31mAttributeError\u001b[0m                            Traceback (most recent call last)",
      "\u001b[1;32m<ipython-input-3-83e6c2c0181c>\u001b[0m in \u001b[0;36m<module>\u001b[1;34m\u001b[0m\n\u001b[0;32m      5\u001b[0m \u001b[1;31m# 각 개체의 name, title, age 속성 출력\u001b[0m\u001b[1;33m\u001b[0m\u001b[1;33m\u001b[0m\u001b[1;33m\u001b[0m\u001b[0m\n\u001b[0;32m      6\u001b[0m \u001b[0mprint\u001b[0m\u001b[1;33m(\u001b[0m\u001b[1;34m\"p1's name: {0}, title: {1}, age: {2}\"\u001b[0m\u001b[1;33m.\u001b[0m\u001b[0mformat\u001b[0m\u001b[1;33m(\u001b[0m\u001b[0mp1\u001b[0m\u001b[1;33m.\u001b[0m\u001b[0mname\u001b[0m\u001b[1;33m,\u001b[0m \u001b[0mp1\u001b[0m\u001b[1;33m.\u001b[0m\u001b[0mtitle\u001b[0m\u001b[1;33m,\u001b[0m \u001b[0mp1\u001b[0m\u001b[1;33m.\u001b[0m\u001b[0mage\u001b[0m\u001b[1;33m)\u001b[0m\u001b[1;33m)\u001b[0m\u001b[1;33m\u001b[0m\u001b[1;33m\u001b[0m\u001b[0m\n\u001b[1;32m----> 7\u001b[1;33m \u001b[0mprint\u001b[0m\u001b[1;33m(\u001b[0m\u001b[1;34m\"p2's name: {0}, title: {1}, age: {2}\"\u001b[0m\u001b[1;33m.\u001b[0m\u001b[0mformat\u001b[0m\u001b[1;33m(\u001b[0m\u001b[0mp2\u001b[0m\u001b[1;33m.\u001b[0m\u001b[0mname\u001b[0m\u001b[1;33m,\u001b[0m \u001b[0mp2\u001b[0m\u001b[1;33m.\u001b[0m\u001b[0mtitle\u001b[0m\u001b[1;33m,\u001b[0m \u001b[0mp2\u001b[0m\u001b[1;33m.\u001b[0m\u001b[0mage\u001b[0m\u001b[1;33m)\u001b[0m\u001b[1;33m)\u001b[0m\u001b[1;33m\u001b[0m\u001b[1;33m\u001b[0m\u001b[0m\n\u001b[0m",
      "\u001b[1;31mAttributeError\u001b[0m: 'Person' object has no attribute 'age'"
     ]
    }
   ],
   "source": [
    "# 멤버 데이터 추가\n",
    "Person.title = 'New title' # 클래스 객체에 새로운 멤버 변수 title 추가\n",
    "p1.age = 20 # p1 인스턴스에 새로운 멤버 변수 age 추가\n",
    "\n",
    "# 각 개체의 name, title, age 속성 출력\n",
    "print(\"p1's name: {0}, title: {1}, age: {2}\".format(p1.name, p1.title, p1.age))\n",
    "print(\"p2's name: {0}, title: {1}, age: {2}\".format(p2.name, p2.title, p2.age))"
   ]
  },
  {
   "cell_type": "code",
   "execution_count": null,
   "metadata": {},
   "outputs": [],
   "source": [
    "# isinstance(인스턴스 객체, 클래스 객체): 인스턴스 객체가 어떤 클래스로부터 생성되었는지 확인\n",
    "# 클래스 정의\n",
    "class Person:\n",
    "    pass\n",
    "\n",
    "class Bird:\n",
    "    pass\n",
    "\n",
    "class Student(Person):\n",
    "    pass\n",
    "\n",
    "# 인스턴스 객체 생성\n",
    "p, s = Person(), Student()\n",
    "\n",
    "# 인스턴스, 클래스 관계 확인\n",
    "print('p is instance of Person: ', isinstance(p, Person))\n",
    "print('s is instance of Person: ', isinstance(s, Person))\n",
    "print('p is instance of object: ', isinstance(p, object))\n",
    "print('p is instance of Bird: ', isinstance(p, Bird))"
   ]
  },
  {
   "cell_type": "markdown",
   "metadata": {},
   "source": [
    "### 생성자와 소멸자\n",
    "- 생성자: 생성시 초기화 작업 수행(__init__())\n",
    "- 소멸자: 소멸시 종료 작업 수행(__del__())"
   ]
  },
  {
   "cell_type": "code",
   "execution_count": 4,
   "metadata": {},
   "outputs": [
    {
     "name": "stdout",
     "output_type": "stream",
     "text": [
      "Class is created! Value =  10\n",
      "Class is deleted!\n"
     ]
    }
   ],
   "source": [
    "# 생성자와 소멸자\n",
    "class MyClass:\n",
    "    def __init__(self, value): # 생성자 메소드\n",
    "        self.Value = value\n",
    "        print('Class is created! Value = ', value)\n",
    "        \n",
    "    def __del__(self): # 소멸자 메소드\n",
    "        print('Class is deleted!')\n",
    "\n",
    "# foo 함수 안에만 인스턴스 객체 d 존재도록 함수 정의        \n",
    "def foo():\n",
    "    d = MyClass(10) \n",
    "\n",
    "# foo 함수 출력\n",
    "foo()"
   ]
  },
  {
   "cell_type": "markdown",
   "metadata": {},
   "source": [
    "### 연산자 중복, 상속"
   ]
  },
  {
   "cell_type": "code",
   "execution_count": 5,
   "metadata": {},
   "outputs": [],
   "source": [
    "# 중복: 사용자 정의 객체에서 필요한 연산자를 내장 타입과 형태, 동작이 유사하도록 재정의\n",
    "class GString:\n",
    "    def __init__(self, init = None):\n",
    "        self.content = init\n",
    "        \n",
    "    def __sub__(self, str): # '__function__': 연산자 중복 정의\n",
    "        for i in str:\n",
    "            self.content = self.content.replace(1, '')\n",
    "        return GString(self.content)\n",
    "    \n",
    "    def Remove(self, str):\n",
    "        return self.__sub__(str)"
   ]
  },
  {
   "cell_type": "code",
   "execution_count": 6,
   "metadata": {},
   "outputs": [
    {
     "data": {
      "text/plain": [
       "True"
      ]
     },
     "execution_count": 6,
     "metadata": {},
     "output_type": "execute_result"
    }
   ],
   "source": [
    "# 상속: 부모 클래스의 모든 속성(데이터, 메소드)를 자식 클래스로 물려줌\n",
    "class Person:\n",
    "    def __init__(self, name, phoneNumber):\n",
    "        self.Name = name\n",
    "        self.PhoneNumber = phoneNumber\n",
    "\n",
    "class Student(Person):\n",
    "    def __init__(self, name, phoneNumber, subject, studentID):\n",
    "        self.Name = name\n",
    "        self.PhoneNumber = phoneNumber\n",
    "        self.Subject = subject\n",
    "        self.StudentID = studentID\n",
    "        \n",
    "# 상속 관계 확인: issubclass(자식클래스, 부모클래스)\n",
    "issubclass(Student, Person)"
   ]
  },
  {
   "cell_type": "code",
   "execution_count": 7,
   "metadata": {},
   "outputs": [
    {
     "name": "stdout",
     "output_type": "stream",
     "text": [
      "True\n",
      "True\n"
     ]
    }
   ],
   "source": [
    "# 다중 상속: 2개 이상의 클래스를 상속받는 경우\n",
    "class Tiger:\n",
    "    def Jump(self):\n",
    "        print('호랑이처럼 멀리 점프하기')\n",
    "        \n",
    "class Lion:\n",
    "    def Bite(self):\n",
    "        print('사자처럼 한입에 꿀꺽하기')\n",
    "        \n",
    "class Liger(Tiger, Lion): # 다중 상속\n",
    "    def Play(self):\n",
    "        print('라이거만의 사육사와 재미있게 놀기')\n",
    "        \n",
    "# 상속 관계 확인\n",
    "print(issubclass(Liger, Tiger))\n",
    "print(issubclass(Liger, Lion))"
   ]
  },
  {
   "cell_type": "code",
   "execution_count": 8,
   "metadata": {},
   "outputs": [
    {
     "data": {
      "text/plain": [
       "(30, 20, 10)"
      ]
     },
     "execution_count": 8,
     "metadata": {},
     "output_type": "execute_result"
    }
   ],
   "source": [
    "# 인스턴스 객체 영역\n",
    "class SuperClass: # 부모 클래스\n",
    "    x = 10\n",
    "    def printX(self):\n",
    "        print(self.x)\n",
    "    \n",
    "class SubClass(SuperClass): # 자식 클래스\n",
    "    y = 20\n",
    "    def printY(self):\n",
    "        print(self.y)\n",
    "\n",
    "# 인스턴스 객체 생성\n",
    "s = SubClass()\n",
    "s.a = 30\n",
    "\n",
    "# 인스턴스 객체 s의 a, y, x 출력\n",
    "s.a, s.y, s.x"
   ]
  }
 ],
 "metadata": {
  "kernelspec": {
   "display_name": "Python 3",
   "language": "python",
   "name": "python3"
  },
  "language_info": {
   "codemirror_mode": {
    "name": "ipython",
    "version": 3
   },
   "file_extension": ".py",
   "mimetype": "text/x-python",
   "name": "python",
   "nbconvert_exporter": "python",
   "pygments_lexer": "ipython3",
   "version": "3.6.7"
  }
 },
 "nbformat": 4,
 "nbformat_minor": 2
}
