{
 "cells": [
  {
   "cell_type": "markdown",
   "metadata": {},
   "source": [
    "## 3. 제어"
   ]
  },
  {
   "cell_type": "markdown",
   "metadata": {},
   "source": [
    "### If문"
   ]
  },
  {
   "cell_type": "code",
   "execution_count": 1,
   "metadata": {},
   "outputs": [
    {
     "name": "stdout",
     "output_type": "stream",
     "text": [
      "value is bigger than 5\n"
     ]
    }
   ],
   "source": [
    "# if문\n",
    "value = 10\n",
    "if value > 5:\n",
    "    print('value is bigger than 5')"
   ]
  },
  {
   "cell_type": "code",
   "execution_count": 2,
   "metadata": {},
   "outputs": [
    {
     "name": "stdout",
     "output_type": "stream",
     "text": [
      "Input Score: 75\n",
      "Grade is C\n"
     ]
    }
   ],
   "source": [
    "# elif, else\n",
    "score = int(input('Input Score: '))\n",
    "if 90 <= score <= 100:\n",
    "    grade = 'A'\n",
    "elif 80 <= score < 90:\n",
    "    grade = 'B'\n",
    "elif 70 <= score < 80:\n",
    "    grade = 'C'\n",
    "elif 60 <= score < 70:\n",
    "    grade = 'D'\n",
    "else:\n",
    "    grade = 'F'\n",
    "    \n",
    "print('Grade is ' + grade)"
   ]
  },
  {
   "cell_type": "code",
   "execution_count": 3,
   "metadata": {},
   "outputs": [
    {
     "ename": "ZeroDivisionError",
     "evalue": "division by zero",
     "output_type": "error",
     "traceback": [
      "\u001b[1;31m---------------------------------------------------------------------------\u001b[0m",
      "\u001b[1;31mZeroDivisionError\u001b[0m                         Traceback (most recent call last)",
      "\u001b[1;32m<ipython-input-3-482087b43f77>\u001b[0m in \u001b[0;36m<module>\u001b[1;34m\u001b[0m\n\u001b[0;32m      1\u001b[0m \u001b[1;31m# 단축 평가: 식 전체가 자명한 경우 더 이상 수식을 평가하지 않는 방법\u001b[0m\u001b[1;33m\u001b[0m\u001b[1;33m\u001b[0m\u001b[1;33m\u001b[0m\u001b[0m\n\u001b[0;32m      2\u001b[0m \u001b[0ma\u001b[0m \u001b[1;33m=\u001b[0m \u001b[1;36m0\u001b[0m\u001b[1;33m\u001b[0m\u001b[1;33m\u001b[0m\u001b[0m\n\u001b[1;32m----> 3\u001b[1;33m \u001b[1;32mif\u001b[0m \u001b[0ma\u001b[0m \u001b[1;33m&\u001b[0m \u001b[1;36m10\u001b[0m\u001b[1;33m/\u001b[0m\u001b[0ma\u001b[0m\u001b[1;33m:\u001b[0m\u001b[1;33m\u001b[0m\u001b[1;33m\u001b[0m\u001b[0m\n\u001b[0m\u001b[0;32m      4\u001b[0m     \u001b[0mprint\u001b[0m\u001b[1;33m(\u001b[0m\u001b[1;34m'a가 0입니다.'\u001b[0m\u001b[1;33m)\u001b[0m\u001b[1;33m\u001b[0m\u001b[1;33m\u001b[0m\u001b[0m\n\u001b[0;32m      5\u001b[0m \u001b[1;32melse\u001b[0m\u001b[1;33m:\u001b[0m\u001b[1;33m\u001b[0m\u001b[1;33m\u001b[0m\u001b[0m\n",
      "\u001b[1;31mZeroDivisionError\u001b[0m: division by zero"
     ]
    }
   ],
   "source": [
    "# 단축 평가: 식 전체가 자명한 경우 더 이상 수식을 평가하지 않는 방법\n",
    "a = 0\n",
    "if a & 10/a:\n",
    "    print('a가 0입니다.')\n",
    "else:\n",
    "    print('에러없이 통과')"
   ]
  },
  {
   "cell_type": "code",
   "execution_count": 4,
   "metadata": {},
   "outputs": [
    {
     "name": "stdout",
     "output_type": "stream",
     "text": [
      "에러없이 통과\n"
     ]
    }
   ],
   "source": [
    "# 단축 평가: 식 전체가 자명한 경우 더 이상 수식을 평가하지 않는 방법\n",
    "a = 0\n",
    "if a and 10/a:\n",
    "    print('a가 0입니다.')\n",
    "else:\n",
    "    print('에러없이 통과')"
   ]
  },
  {
   "cell_type": "markdown",
   "metadata": {},
   "source": [
    "### While문"
   ]
  },
  {
   "cell_type": "code",
   "execution_count": 5,
   "metadata": {},
   "outputs": [
    {
     "name": "stdout",
     "output_type": "stream",
     "text": [
      "5\n",
      "4\n",
      "3\n",
      "2\n",
      "1\n"
     ]
    }
   ],
   "source": [
    "# While문\n",
    "value = 5\n",
    "while value > 0:\n",
    "    print(value)\n",
    "    value -= 1"
   ]
  },
  {
   "cell_type": "markdown",
   "metadata": {},
   "source": [
    "### For문"
   ]
  },
  {
   "cell_type": "code",
   "execution_count": 6,
   "metadata": {},
   "outputs": [
    {
     "name": "stdout",
     "output_type": "stream",
     "text": [
      "Apple <class 'str'>\n",
      "100 <class 'int'>\n",
      "15.23 <class 'float'>\n",
      "\n",
      "Apple 100\n",
      "Orange 200\n",
      "Banana 300\n"
     ]
    }
   ],
   "source": [
    "# For문\n",
    "l = ['Apple', 100, 15.23]\n",
    "for i in l:\n",
    "    print(i, type(i))\n",
    "\n",
    "print()\n",
    "\n",
    "d = {'Apple': 100, 'Orange': 200, 'Banana': 300}\n",
    "for k, v in d.items():\n",
    "    print(k, v)"
   ]
  },
  {
   "cell_type": "code",
   "execution_count": 7,
   "metadata": {},
   "outputs": [
    {
     "name": "stdout",
     "output_type": "stream",
     "text": [
      "10\n",
      "20\n",
      "30\n"
     ]
    }
   ],
   "source": [
    "# iterator\n",
    "l = [10, 20, 30]\n",
    "iterator = iter(l)\n",
    "for i in iterator:\n",
    "    print(i)"
   ]
  },
  {
   "cell_type": "code",
   "execution_count": 8,
   "metadata": {},
   "outputs": [
    {
     "name": "stdout",
     "output_type": "stream",
     "text": [
      "-- 1 단 --\n",
      "1 * 1 = 1\n",
      "1 * 2 = 2\n",
      "1 * 3 = 3\n",
      "1 * 4 = 4\n",
      "1 * 5 = 5\n",
      "1 * 6 = 6\n",
      "1 * 7 = 7\n",
      "1 * 8 = 8\n",
      "1 * 9 = 9\n",
      "-- 2 단 --\n",
      "2 * 1 = 2\n",
      "2 * 2 = 4\n",
      "2 * 3 = 6\n",
      "2 * 4 = 8\n",
      "2 * 5 = 10\n",
      "2 * 6 = 12\n",
      "2 * 7 = 14\n",
      "2 * 8 = 16\n",
      "2 * 9 = 18\n"
     ]
    }
   ],
   "source": [
    "# 중첩\n",
    "for n in [1, 2]:\n",
    "    print('-- {0} 단 --'.format(n))\n",
    "    for l in [1, 2, 3, 4, 5, 6, 7, 8, 9]:\n",
    "        print('{0} * {1} = {2}'.format(n, l, n*l))"
   ]
  },
  {
   "cell_type": "code",
   "execution_count": 9,
   "metadata": {},
   "outputs": [
    {
     "name": "stdout",
     "output_type": "stream",
     "text": [
      "Item: 1\n",
      "Item: 2\n",
      "Item: 3\n",
      "Item: 4\n",
      "Item: 5\n"
     ]
    }
   ],
   "source": [
    "# break\n",
    "L = [1, 2, 3, 4, 5, 6, 7, 8, 9, 10]\n",
    "for i in L:\n",
    "    if i > 5:\n",
    "        break\n",
    "    print('Item: {0}'.format(i))"
   ]
  },
  {
   "cell_type": "code",
   "execution_count": 10,
   "metadata": {},
   "outputs": [
    {
     "name": "stdout",
     "output_type": "stream",
     "text": [
      "Item: 1\n",
      "Item: 3\n",
      "Item: 5\n",
      "Item: 7\n",
      "Item: 9\n"
     ]
    }
   ],
   "source": [
    "# continue\n",
    "L = [1, 2, 3, 4, 5, 6, 7, 8, 9, 10]\n",
    "for i in L:\n",
    "    if i % 2 == 0:\n",
    "        continue\n",
    "    print('Item: {0}'.format(i))"
   ]
  },
  {
   "cell_type": "code",
   "execution_count": 11,
   "metadata": {},
   "outputs": [
    {
     "name": "stdout",
     "output_type": "stream",
     "text": [
      "Item: 1\n",
      "Item: 3\n",
      "Item: 5\n",
      "Item: 7\n",
      "Item: 9\n",
      "Exit without break.\n",
      "Always this is printed\n",
      "\n",
      "Item: 1\n",
      "Item: 2\n",
      "Item: 3\n",
      "Item: 4\n",
      "Item: 5\n",
      "Always this is printed\n"
     ]
    }
   ],
   "source": [
    "# else\n",
    "L = [1, 2, 3, 4, 5, 6, 7, 8, 9, 10]\n",
    "\n",
    "# else 블록이 수행되는 경우\n",
    "for i in L:\n",
    "    if i % 2 == 0:\n",
    "        continue\n",
    "    print('Item: {0}'.format(i))\n",
    "else:\n",
    "    print('Exit without break.')\n",
    "print('Always this is printed')\n",
    "\n",
    "# else 블록이 수행되지 않는 경우\n",
    "print()\n",
    "for i in L:\n",
    "    if i > 5:\n",
    "        break\n",
    "    print('Item: {0}'.format(i))\n",
    "else:\n",
    "    print('Exit without break.')\n",
    "print('Always this is printed')"
   ]
  },
  {
   "cell_type": "markdown",
   "metadata": {},
   "source": [
    "### 리스트 내장"
   ]
  },
  {
   "cell_type": "code",
   "execution_count": 12,
   "metadata": {},
   "outputs": [
    {
     "name": "stdout",
     "output_type": "stream",
     "text": [
      "[1, 4, 9, 16, 25]\n",
      "[6, 5, 6]\n"
     ]
    }
   ],
   "source": [
    "# [<표현식> for <아이템> in <시퀀스 객체>]\n",
    "l = [1, 2, 3, 4, 5]\n",
    "print([i ** 2 for i in l])\n",
    "\n",
    "t = ('orange', 'apple', 'banana')\n",
    "print([len(i) for i in t])"
   ]
  },
  {
   "cell_type": "code",
   "execution_count": 13,
   "metadata": {},
   "outputs": [
    {
     "data": {
      "text/plain": [
       "['orange', 'banana']"
      ]
     },
     "execution_count": 13,
     "metadata": {},
     "output_type": "execute_result"
    }
   ],
   "source": [
    "# [<표현식> for <아이템> in <시퀀스 객체> if <조건식>]\n",
    "t = ('orange', 'apple', 'banana', 'kiwi')\n",
    "[i for i in t if len(i) > 5]"
   ]
  },
  {
   "cell_type": "code",
   "execution_count": 14,
   "metadata": {},
   "outputs": [
    {
     "data": {
      "text/plain": [
       "[4.5, -1.5, 12, 6.0, -2.0, 16, 7.5, -2.5, 20]"
      ]
     },
     "execution_count": 14,
     "metadata": {},
     "output_type": "execute_result"
    }
   ],
   "source": [
    "# 원본 리스트가 2개인 경우\n",
    "L_1 = [3, 4, 5]\n",
    "L_2 = [1.5, -0.5, 4]\n",
    "[x * y for x in L_1 for y in L_2]"
   ]
  },
  {
   "cell_type": "markdown",
   "metadata": {},
   "source": [
    "### filter"
   ]
  },
  {
   "cell_type": "code",
   "execution_count": 15,
   "metadata": {},
   "outputs": [
    {
     "name": "stdout",
     "output_type": "stream",
     "text": [
      "Item: 10\n",
      "Item: 25\n",
      "Item: 30\n",
      "[25, 30]\n",
      "[25, 30]\n"
     ]
    }
   ],
   "source": [
    "# filter(<function>|NOne, 시퀀스 객체): 함수의 결과값이 True인 객체의 iterator 반환\n",
    "L = [10, 25, 30]\n",
    "\n",
    "# None인 경우: 필터링하지 않음\n",
    "IterL = filter(None, L)\n",
    "for i in IterL:\n",
    "    print('Item: {0}'.format(i))\n",
    "    \n",
    "# 함수가 있는 경우\n",
    "def GetBiggerThan20(i):\n",
    "    return i > 20\n",
    "\n",
    "print(list(filter(GetBiggerThan20, L)))\n",
    "\n",
    "# Lambda 함수인 경우\n",
    "print(list(filter(lambda i: i > 20, L)))"
   ]
  },
  {
   "cell_type": "markdown",
   "metadata": {},
   "source": [
    "### range"
   ]
  },
  {
   "cell_type": "code",
   "execution_count": 16,
   "metadata": {},
   "outputs": [
    {
     "name": "stdout",
     "output_type": "stream",
     "text": [
      "[0, 1, 2, 3, 4, 5, 6, 7, 8, 9]\n",
      "[5, 6, 7, 8, 9]\n",
      "[10, 9, 8, 7, 6, 5, 4, 3, 2, 1]\n",
      "[10, 12, 14, 16, 18]\n"
     ]
    }
   ],
   "source": [
    "# range(['시작값'], ['종료값'], ['증가값']): 수열을 순회하는 iterator 객체 반환\n",
    "# 종료값만 있는 경우\n",
    "print(list(range(10)))\n",
    "\n",
    "# 시작값, 종료값이 있는 경우\n",
    "print(list(range(5, 10)))\n",
    "\n",
    "# 시작값, 종료값, 증가값이 있는 경우\n",
    "print(list(range(10, 0, -1)))\n",
    "\n",
    "# 10부터 20까지 짝수만 출력\n",
    "print(list(range(10, 20, 2)))"
   ]
  },
  {
   "cell_type": "markdown",
   "metadata": {},
   "source": [
    "### map"
   ]
  },
  {
   "cell_type": "code",
   "execution_count": 17,
   "metadata": {},
   "outputs": [
    {
     "name": "stdout",
     "output_type": "stream",
     "text": [
      "Item: 11\n",
      "Item: 12\n",
      "Item: 13\n",
      "[1, 8, 81]\n"
     ]
    }
   ],
   "source": [
    "# map(<function>, 시퀀스 객체, ...): 시퀀스 객체를 순회하며 function의 연산 수행\n",
    "# 10을 더하는 함수 수행\n",
    "L = [1, 2, 3]\n",
    "\n",
    "def Add10(i):\n",
    "    return i + 10\n",
    "\n",
    "for i in map(Add10, L):\n",
    "    print('Item: {0}'.format(i))\n",
    "    \n",
    "# 제곱하는 함수 수행\n",
    "X = [1, 2, 3]\n",
    "Y = [2, 3, 4]\n",
    "print(list(map(pow, X, Y)))"
   ]
  }
 ],
 "metadata": {
  "kernelspec": {
   "display_name": "Python 3",
   "language": "python",
   "name": "python3"
  },
  "language_info": {
   "codemirror_mode": {
    "name": "ipython",
    "version": 3
   },
   "file_extension": ".py",
   "mimetype": "text/x-python",
   "name": "python",
   "nbconvert_exporter": "python",
   "pygments_lexer": "ipython3",
   "version": "3.6.7"
  }
 },
 "nbformat": 4,
 "nbformat_minor": 2
}
